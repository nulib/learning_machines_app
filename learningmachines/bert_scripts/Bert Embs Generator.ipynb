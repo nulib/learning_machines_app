{
 "cells": [
  {
   "cell_type": "code",
   "execution_count": 1,
   "id": "b9a05bf9",
   "metadata": {
    "scrolled": true
   },
   "outputs": [
    {
     "name": "stdout",
     "output_type": "stream",
     "text": [
      "Collecting package metadata (current_repodata.json): done\n",
      "Solving environment: failed with initial frozen solve. Retrying with flexible solve.\n",
      "Collecting package metadata (repodata.json): done\n",
      "Solving environment: failed with initial frozen solve. Retrying with flexible solve.\n",
      "\n",
      "PackagesNotFoundError: The following packages are not available from current channels:\n",
      "\n",
      "  - simpletransformers\n",
      "\n",
      "Current channels:\n",
      "\n",
      "  - https://repo.anaconda.com/pkgs/main/osx-arm64\n",
      "  - https://repo.anaconda.com/pkgs/main/noarch\n",
      "  - https://repo.anaconda.com/pkgs/r/osx-arm64\n",
      "  - https://repo.anaconda.com/pkgs/r/noarch\n",
      "\n",
      "To search for alternate channels that may provide the conda package you're\n",
      "looking for, navigate to\n",
      "\n",
      "    https://anaconda.org\n",
      "\n",
      "and use the search bar at the top of the page.\n",
      "\n",
      "\n"
     ]
    }
   ],
   "source": [
    "!conda install simpletransformers"
   ]
  },
  {
   "cell_type": "code",
   "execution_count": 1,
   "id": "7d9d94c3",
   "metadata": {},
   "outputs": [],
   "source": [
    "import os\n",
    "import pandas as pd\n",
    "\n",
    "import transformers\n",
    "import torch\n",
    "import numpy as np\n",
    "from simpletransformers.language_representation import RepresentationModel\n",
    "from tqdm import tqdm\n",
    "\n",
    "import umap.umap_ as umap\n",
    "import matplotlib.pyplot as plt\n",
    "import sklearn.cluster as cluster\n",
    "import json\n",
    "import string"
   ]
  },
  {
   "cell_type": "code",
   "execution_count": 2,
   "id": "54a027a0",
   "metadata": {
    "scrolled": true
   },
   "outputs": [],
   "source": [
    "os.chdir('..')"
   ]
  },
  {
   "cell_type": "code",
   "execution_count": 3,
   "id": "70e6b5a6",
   "metadata": {
    "scrolled": true
   },
   "outputs": [
    {
     "data": {
      "text/plain": [
       "['thing.txt',\n",
       " 'searcher',\n",
       " 'bash_docker_start_app.sh',\n",
       " '.DS_Store',\n",
       " 'requirements_macos.txt',\n",
       " 'requirements.txt',\n",
       " 'c-nov.json',\n",
       " 'test_save_rslts_100.json',\n",
       " 'learningmachines',\n",
       " 'lda_hyperparam_eval.py',\n",
       " 'etc',\n",
       " 'db.sqlite3',\n",
       " 'static',\n",
       " 'bash_docker_start_worker.sh',\n",
       " 'bert_scripts',\n",
       " 'running_tester.py',\n",
       " 'manage.py',\n",
       " '.ipynb_checkpoints']"
      ]
     },
     "execution_count": 3,
     "metadata": {},
     "output_type": "execute_result"
    }
   ],
   "source": [
    "os.listdir('./')"
   ]
  },
  {
   "cell_type": "code",
   "execution_count": 4,
   "id": "bb93983c",
   "metadata": {
    "scrolled": false
   },
   "outputs": [
    {
     "name": "stdout",
     "output_type": "stream",
     "text": [
      "{'USE_S3': False, 'BUCKET_NAME': 'learningmachines-static', 'CUSTOM_DOMAIN': 'learningmachines-static.s3.amazonaws.com'}\n",
      "credentials file found\n",
      "redis://localhost:6379\n",
      "https://learningmachines-static.s3.amazonaws.com/static/\n",
      "learning-machines-\n"
     ]
    },
    {
     "name": "stderr",
     "output_type": "stream",
     "text": [
      "/Users/ez/Desktop/projects/learningmachines_folder/venv/lib/python3.8/site-packages/gensim/similarities/__init__.py:15: UserWarning: The gensim.similarities.levenshtein submodule is disabled, because the optional Levenshtein package <https://pypi.org/project/python-Levenshtein/> is unavailable. Install Levenhstein (e.g. `pip install python-Levenshtein`) to suppress this warning.\n",
      "  warnings.warn(msg)\n"
     ]
    }
   ],
   "source": [
    "from searcher.es_search import SearchResults_ES"
   ]
  },
  {
   "cell_type": "code",
   "execution_count": 5,
   "id": "045b8030",
   "metadata": {},
   "outputs": [],
   "source": [
    "#https://simpletransformers.ai/docs/lm-model/\n",
    "\n",
    "#https://www.sbert.net/examples/applications/computing-embeddings/README.html\n",
    "\n",
    "#https://umap-learn.readthedocs.io/en/latest/clustering.html"
   ]
  },
  {
   "cell_type": "code",
   "execution_count": 6,
   "id": "34feb547",
   "metadata": {},
   "outputs": [],
   "source": [
    "import json\n",
    "from collections import namedtuple\n",
    "class EsLocalRslt:\n",
    "    def __init__(self, save_qry_obj, save_qry_path=None):\n",
    "        print(save_qry_obj)\n",
    "        self.save_qry_path = f\"bert_scripts/data/{save_qry_obj['qry']}_{save_qry_obj['database']}_{save_qry_obj['maximum_hits']}_{save_qry_obj['qry']}.json\" if save_qry_path == None else save_qry_path\n",
    "        self.save_qry_obj = save_qry_obj\n",
    "        self.es = SearchResults_ES(save_qry_obj['database'], save_qry_obj, cleaned=False, rand=False)\n",
    "        self.rslts = []\n",
    "        self.esDocRslt = []\n",
    "        self.esDoc = namedtuple('esDoc', ['doc_id', 'journal_title', 'article_title', 'authors', 'date', 'text', 'doi'])\n",
    "\n",
    "    def save_rslts(self):\n",
    "        self.rslts = []\n",
    "        for d in self.es:\n",
    "            self.rslts.append(d)\n",
    "    \n",
    "        fp = open(self.save_qry_path, 'w')\n",
    "        json.dump(self.rslts, fp)\n",
    "        \n",
    "    def load_rslts(self):\n",
    "        rfp = open(self.save_qry_path, 'r')\n",
    "        self.rslts = json.load(rfp)\n",
    "        self.esDocRslt = []\n",
    "        for d in self.rslts:\n",
    "            esD = self.esDoc(\n",
    "                    doc_id=d[0],\n",
    "                    journal_title=d[1],\n",
    "                    article_title=d[2],\n",
    "                    authors=d[3],\n",
    "                    text=d[5],\n",
    "                    date=d[4],\n",
    "                    doi=d[6]\n",
    "                )\n",
    "            self.esDocRslt.append(esD)\n",
    "        return self.esDocRslt\n",
    "\n",
    "\n"
   ]
  },
  {
   "cell_type": "code",
   "execution_count": 7,
   "id": "fa75f005",
   "metadata": {
    "scrolled": true
   },
   "outputs": [
    {
     "name": "stdout",
     "output_type": "stream",
     "text": [
      "{'qry': '', 'maximum_hits': '10000', 'database': 'chicago-novels'}\n",
      "10000\n",
      "{'qry': '', 'maximum_hits': '10000', 'database': 'chicago-novels', 'f_start': -1, 'f_end': -1, 'min_occurrence': -1, 'max_occurrence': -1}\n",
      "{'match_all': {}}\n",
      "search query {'size': 250, 'query': {'match_all': {}}}\n",
      "10000\n",
      "{'qry': '', 'maximum_hits': '10000', 'database': 'chicago-novels', 'f_start': -1, 'f_end': -1, 'min_occurrence': -1, 'max_occurrence': -1}\n",
      "{'match_all': {}}\n",
      "search query {'size': 250, 'query': {'match_all': {}}}\n",
      "scroll 0 250\n",
      "10000\n",
      "{'qry': '', 'maximum_hits': '10000', 'database': 'chicago-novels', 'f_start': -1, 'f_end': -1, 'min_occurrence': -1, 'max_occurrence': -1}\n",
      "{'match_all': {}}\n",
      "search query {'size': 250, 'query': {'match_all': {}}}\n",
      "scroll 1 250\n",
      "10000\n",
      "{'qry': '', 'maximum_hits': '10000', 'database': 'chicago-novels', 'f_start': -1, 'f_end': -1, 'min_occurrence': -1, 'max_occurrence': -1}\n",
      "{'match_all': {}}\n",
      "search query {'size': 250, 'query': {'match_all': {}}}\n",
      "scroll 2 250\n",
      "10000\n",
      "{'qry': '', 'maximum_hits': '10000', 'database': 'chicago-novels', 'f_start': -1, 'f_end': -1, 'min_occurrence': -1, 'max_occurrence': -1}\n",
      "{'match_all': {}}\n",
      "search query {'size': 250, 'query': {'match_all': {}}}\n",
      "scroll 3 250\n",
      "10000\n",
      "{'qry': '', 'maximum_hits': '10000', 'database': 'chicago-novels', 'f_start': -1, 'f_end': -1, 'min_occurrence': -1, 'max_occurrence': -1}\n",
      "{'match_all': {}}\n",
      "search query {'size': 250, 'query': {'match_all': {}}}\n",
      "scroll 4 250\n",
      "10000\n",
      "{'qry': '', 'maximum_hits': '10000', 'database': 'chicago-novels', 'f_start': -1, 'f_end': -1, 'min_occurrence': -1, 'max_occurrence': -1}\n",
      "{'match_all': {}}\n",
      "search query {'size': 250, 'query': {'match_all': {}}}\n",
      "scroll 5 250\n",
      "10000\n",
      "{'qry': '', 'maximum_hits': '10000', 'database': 'chicago-novels', 'f_start': -1, 'f_end': -1, 'min_occurrence': -1, 'max_occurrence': -1}\n",
      "{'match_all': {}}\n",
      "search query {'size': 250, 'query': {'match_all': {}}}\n",
      "scroll 6 250\n",
      "10000\n",
      "{'qry': '', 'maximum_hits': '10000', 'database': 'chicago-novels', 'f_start': -1, 'f_end': -1, 'min_occurrence': -1, 'max_occurrence': -1}\n",
      "{'match_all': {}}\n",
      "search query {'size': 250, 'query': {'match_all': {}}}\n",
      "scroll 7 250\n",
      "10000\n",
      "{'qry': '', 'maximum_hits': '10000', 'database': 'chicago-novels', 'f_start': -1, 'f_end': -1, 'min_occurrence': -1, 'max_occurrence': -1}\n",
      "{'match_all': {}}\n",
      "search query {'size': 250, 'query': {'match_all': {}}}\n",
      "scroll 8 250\n",
      "10000\n",
      "{'qry': '', 'maximum_hits': '10000', 'database': 'chicago-novels', 'f_start': -1, 'f_end': -1, 'min_occurrence': -1, 'max_occurrence': -1}\n",
      "{'match_all': {}}\n",
      "search query {'size': 250, 'query': {'match_all': {}}}\n",
      "scroll 9 250\n",
      "10000\n",
      "{'qry': '', 'maximum_hits': '10000', 'database': 'chicago-novels', 'f_start': -1, 'f_end': -1, 'min_occurrence': -1, 'max_occurrence': -1}\n",
      "{'match_all': {}}\n",
      "search query {'size': 250, 'query': {'match_all': {}}}\n",
      "scroll 10 250\n",
      "10000\n",
      "{'qry': '', 'maximum_hits': '10000', 'database': 'chicago-novels', 'f_start': -1, 'f_end': -1, 'min_occurrence': -1, 'max_occurrence': -1}\n",
      "{'match_all': {}}\n",
      "search query {'size': 250, 'query': {'match_all': {}}}\n",
      "scroll 11 250\n",
      "10000\n",
      "{'qry': '', 'maximum_hits': '10000', 'database': 'chicago-novels', 'f_start': -1, 'f_end': -1, 'min_occurrence': -1, 'max_occurrence': -1}\n",
      "{'match_all': {}}\n",
      "search query {'size': 250, 'query': {'match_all': {}}}\n",
      "scroll 12 250\n",
      "10000\n",
      "{'qry': '', 'maximum_hits': '10000', 'database': 'chicago-novels', 'f_start': -1, 'f_end': -1, 'min_occurrence': -1, 'max_occurrence': -1}\n",
      "{'match_all': {}}\n",
      "search query {'size': 250, 'query': {'match_all': {}}}\n",
      "scroll 13 250\n",
      "10000\n",
      "{'qry': '', 'maximum_hits': '10000', 'database': 'chicago-novels', 'f_start': -1, 'f_end': -1, 'min_occurrence': -1, 'max_occurrence': -1}\n",
      "{'match_all': {}}\n",
      "search query {'size': 250, 'query': {'match_all': {}}}\n",
      "scroll 14 250\n",
      "10000\n",
      "{'qry': '', 'maximum_hits': '10000', 'database': 'chicago-novels', 'f_start': -1, 'f_end': -1, 'min_occurrence': -1, 'max_occurrence': -1}\n",
      "{'match_all': {}}\n",
      "search query {'size': 250, 'query': {'match_all': {}}}\n",
      "scroll 15 250\n",
      "10000\n",
      "{'qry': '', 'maximum_hits': '10000', 'database': 'chicago-novels', 'f_start': -1, 'f_end': -1, 'min_occurrence': -1, 'max_occurrence': -1}\n",
      "{'match_all': {}}\n",
      "search query {'size': 250, 'query': {'match_all': {}}}\n",
      "scroll 16 250\n",
      "10000\n",
      "{'qry': '', 'maximum_hits': '10000', 'database': 'chicago-novels', 'f_start': -1, 'f_end': -1, 'min_occurrence': -1, 'max_occurrence': -1}\n",
      "{'match_all': {}}\n",
      "search query {'size': 250, 'query': {'match_all': {}}}\n",
      "scroll 17 250\n",
      "10000\n",
      "{'qry': '', 'maximum_hits': '10000', 'database': 'chicago-novels', 'f_start': -1, 'f_end': -1, 'min_occurrence': -1, 'max_occurrence': -1}\n",
      "{'match_all': {}}\n",
      "search query {'size': 250, 'query': {'match_all': {}}}\n",
      "scroll 18 250\n",
      "10000\n",
      "{'qry': '', 'maximum_hits': '10000', 'database': 'chicago-novels', 'f_start': -1, 'f_end': -1, 'min_occurrence': -1, 'max_occurrence': -1}\n",
      "{'match_all': {}}\n",
      "search query {'size': 250, 'query': {'match_all': {}}}\n",
      "scroll 19 250\n",
      "10000\n",
      "{'qry': '', 'maximum_hits': '10000', 'database': 'chicago-novels', 'f_start': -1, 'f_end': -1, 'min_occurrence': -1, 'max_occurrence': -1}\n",
      "{'match_all': {}}\n",
      "search query {'size': 250, 'query': {'match_all': {}}}\n",
      "scroll 20 250\n",
      "10000\n",
      "{'qry': '', 'maximum_hits': '10000', 'database': 'chicago-novels', 'f_start': -1, 'f_end': -1, 'min_occurrence': -1, 'max_occurrence': -1}\n",
      "{'match_all': {}}\n",
      "search query {'size': 250, 'query': {'match_all': {}}}\n",
      "scroll 21 250\n",
      "10000\n",
      "{'qry': '', 'maximum_hits': '10000', 'database': 'chicago-novels', 'f_start': -1, 'f_end': -1, 'min_occurrence': -1, 'max_occurrence': -1}\n",
      "{'match_all': {}}\n",
      "search query {'size': 250, 'query': {'match_all': {}}}\n",
      "scroll 22 250\n",
      "10000\n",
      "{'qry': '', 'maximum_hits': '10000', 'database': 'chicago-novels', 'f_start': -1, 'f_end': -1, 'min_occurrence': -1, 'max_occurrence': -1}\n",
      "{'match_all': {}}\n",
      "search query {'size': 250, 'query': {'match_all': {}}}\n",
      "scroll 23 250\n",
      "10000\n",
      "{'qry': '', 'maximum_hits': '10000', 'database': 'chicago-novels', 'f_start': -1, 'f_end': -1, 'min_occurrence': -1, 'max_occurrence': -1}\n",
      "{'match_all': {}}\n",
      "search query {'size': 250, 'query': {'match_all': {}}}\n",
      "scroll 24 250\n",
      "10000\n",
      "{'qry': '', 'maximum_hits': '10000', 'database': 'chicago-novels', 'f_start': -1, 'f_end': -1, 'min_occurrence': -1, 'max_occurrence': -1}\n",
      "{'match_all': {}}\n",
      "search query {'size': 250, 'query': {'match_all': {}}}\n",
      "scroll 25 250\n",
      "10000\n",
      "{'qry': '', 'maximum_hits': '10000', 'database': 'chicago-novels', 'f_start': -1, 'f_end': -1, 'min_occurrence': -1, 'max_occurrence': -1}\n",
      "{'match_all': {}}\n",
      "search query {'size': 250, 'query': {'match_all': {}}}\n",
      "scroll 26 250\n",
      "10000\n",
      "{'qry': '', 'maximum_hits': '10000', 'database': 'chicago-novels', 'f_start': -1, 'f_end': -1, 'min_occurrence': -1, 'max_occurrence': -1}\n",
      "{'match_all': {}}\n",
      "search query {'size': 250, 'query': {'match_all': {}}}\n",
      "scroll 27 250\n",
      "10000\n",
      "{'qry': '', 'maximum_hits': '10000', 'database': 'chicago-novels', 'f_start': -1, 'f_end': -1, 'min_occurrence': -1, 'max_occurrence': -1}\n",
      "{'match_all': {}}\n",
      "search query {'size': 250, 'query': {'match_all': {}}}\n",
      "scroll 28 250\n",
      "10000\n",
      "{'qry': '', 'maximum_hits': '10000', 'database': 'chicago-novels', 'f_start': -1, 'f_end': -1, 'min_occurrence': -1, 'max_occurrence': -1}\n",
      "{'match_all': {}}\n",
      "search query {'size': 250, 'query': {'match_all': {}}}\n",
      "scroll 29 250\n",
      "10000\n",
      "{'qry': '', 'maximum_hits': '10000', 'database': 'chicago-novels', 'f_start': -1, 'f_end': -1, 'min_occurrence': -1, 'max_occurrence': -1}\n",
      "{'match_all': {}}\n",
      "search query {'size': 250, 'query': {'match_all': {}}}\n",
      "scroll 30 250\n",
      "10000\n",
      "{'qry': '', 'maximum_hits': '10000', 'database': 'chicago-novels', 'f_start': -1, 'f_end': -1, 'min_occurrence': -1, 'max_occurrence': -1}\n",
      "{'match_all': {}}\n",
      "search query {'size': 250, 'query': {'match_all': {}}}\n",
      "scroll 31 250\n",
      "10000\n",
      "{'qry': '', 'maximum_hits': '10000', 'database': 'chicago-novels', 'f_start': -1, 'f_end': -1, 'min_occurrence': -1, 'max_occurrence': -1}\n",
      "{'match_all': {}}\n",
      "search query {'size': 250, 'query': {'match_all': {}}}\n",
      "scroll 32 250\n",
      "10000\n",
      "{'qry': '', 'maximum_hits': '10000', 'database': 'chicago-novels', 'f_start': -1, 'f_end': -1, 'min_occurrence': -1, 'max_occurrence': -1}\n",
      "{'match_all': {}}\n",
      "search query {'size': 250, 'query': {'match_all': {}}}\n",
      "scroll 33 250\n",
      "10000\n",
      "{'qry': '', 'maximum_hits': '10000', 'database': 'chicago-novels', 'f_start': -1, 'f_end': -1, 'min_occurrence': -1, 'max_occurrence': -1}\n",
      "{'match_all': {}}\n",
      "search query {'size': 250, 'query': {'match_all': {}}}\n"
     ]
    },
    {
     "name": "stdout",
     "output_type": "stream",
     "text": [
      "scroll 34 250\n",
      "10000\n",
      "{'qry': '', 'maximum_hits': '10000', 'database': 'chicago-novels', 'f_start': -1, 'f_end': -1, 'min_occurrence': -1, 'max_occurrence': -1}\n",
      "{'match_all': {}}\n",
      "search query {'size': 250, 'query': {'match_all': {}}}\n",
      "scroll 35 89\n"
     ]
    }
   ],
   "source": [
    "test_qry_obj = {'qry': '', 'maximum_hits': '10000', 'database': 'chicago-novels'}\n",
    "\n",
    "\n",
    "dd = EsLocalRslt(test_qry_obj)\n",
    "dd.save_rslts()"
   ]
  },
  {
   "cell_type": "code",
   "execution_count": 9,
   "id": "a7b0f858",
   "metadata": {
    "scrolled": true
   },
   "outputs": [
    {
     "name": "stdout",
     "output_type": "stream",
     "text": [
      "9089\n"
     ]
    }
   ],
   "source": [
    "local_rslts = dd.load_rslts()\n",
    "print(len(local_rslts))"
   ]
  },
  {
   "cell_type": "code",
   "execution_count": 10,
   "id": "559afa92",
   "metadata": {},
   "outputs": [
    {
     "name": "stderr",
     "output_type": "stream",
     "text": [
      "Some weights of the model checkpoint at bert-base-uncased were not used when initializing BertForTextRepresentation: ['cls.predictions.transform.LayerNorm.bias', 'cls.predictions.transform.dense.weight', 'cls.predictions.decoder.weight', 'cls.predictions.transform.LayerNorm.weight', 'cls.predictions.bias', 'cls.seq_relationship.weight', 'cls.predictions.transform.dense.bias', 'cls.seq_relationship.bias']\n",
      "- This IS expected if you are initializing BertForTextRepresentation from the checkpoint of a model trained on another task or with another architecture (e.g. initializing a BertForSequenceClassification model from a BertForPreTraining model).\n",
      "- This IS NOT expected if you are initializing BertForTextRepresentation from the checkpoint of a model that you expect to be exactly identical (initializing a BertForSequenceClassification model from a BertForSequenceClassification model).\n"
     ]
    }
   ],
   "source": [
    " class EmbGenerator:\n",
    "    def __init__(self, model_name, qry_obj, max_length=512, proj_method='umap', cluster_method='kmeans', local_rslts=None):\n",
    "        self.model = RepresentationModel(model_type=\"bert\", model_name=model_name, use_cuda=False)\n",
    "        self.max_length = max_length\n",
    "        self.qry_obj = qry_obj\n",
    "        self.es = SearchResults_ES(qry_obj['database'], qry_obj, cleaned=False, rand=False) if local_rslts == None else local_rslts\n",
    "        self.proj_method = proj_method\n",
    "        self.cluster_method = cluster_method\n",
    "        self.doc_embs = {'x' : [],\n",
    "                         'y' : [],\n",
    "                         'emb' : [],\n",
    "                         'title' : [],\n",
    "                         'dates' : [],\n",
    "                         'id' : [],\n",
    "                        'clusters' : [],\n",
    "                        'fulltexts': [],\n",
    "                        'cluster_labels_docs' : [],\n",
    "                        'cluster_labels_tfidf' : [],\n",
    "                        'cluster_centroids' : []}\n",
    "        self.num_clusters=10\n",
    "        self.cluster_docs_idxs = {}\n",
    "        self.dim_fit = None\n",
    "        \n",
    "        self.rmchars = string.punctuation + \"º\"\n",
    "        self.rmchars = self.rmchars.replace(\"_\", \"\").replace(\"-\", \"\").replace(\"%\", \"\")\n",
    "        \n",
    "    def clean_text(self, doc):\n",
    "        doc_text = doc.lower()\n",
    "        if doc_text == None:\n",
    "            doc_text = \"\" \n",
    "        split_text = doc_text.lower().translate(str.maketrans(\"\", \"\", self.rmchars))\n",
    "        split_text = split_text.replace(\"-\", \" \").split(\" \") if doc_text != None else []\n",
    "\n",
    "        if len(split_text) > 5000:\n",
    "            split_text = split_text[0:5000]\n",
    "        cleaned_text = split_text\n",
    "        return cleaned_text\n",
    "    \n",
    "    def create_doc_obj(self, emb, doc_info):\n",
    "        self.doc_embs['emb'].append(emb)\n",
    "        self.doc_embs['title'].append(doc_info.article_title.replace('\"', \"\").replace(\"\\n\", \"\"))\n",
    "        self.doc_embs['id'].append(doc_info.doc_id)\n",
    "        self.doc_embs['dates'].append(doc_info.date)\n",
    "        if type(self.es) == list:\n",
    "            self.doc_embs['fulltexts'].append(self.clean_text(doc_info.text))\n",
    "        return\n",
    "    \n",
    "    def split_sentences(self, doc):\n",
    "        split_doc = doc.split()\n",
    "        chunked_list = list()\n",
    "        chunk_size = self.max_length\n",
    "        for i in range(0, len(split_doc), chunk_size):\n",
    "            chunked_list.append(\" \".join(split_doc[i:i+chunk_size]))\n",
    "\n",
    "        return(chunked_list[:25] if len(chunked_list) > 15 else chunked_list)\n",
    "    \n",
    "    def generate_embs(self):\n",
    "        for document in tqdm(self.es):\n",
    "            dsplits = self.split_sentences(document.text)\n",
    "            sentenceVectors = self.model.encode_sentences(dsplits, combine_strategy=\"mean\")\n",
    "            word_embedding_avg = np.mean(sentenceVectors, axis=0)\n",
    "            self.create_doc_obj(word_embedding_avg, document)\n",
    "            \n",
    "    def reduce_dims(self, plot=False):\n",
    "        if self.proj_method == 'umap':\n",
    "            import umap.umap_ as umap\n",
    "            self.dim_fit = umap.UMAP(\n",
    "                n_neighbors=15,\n",
    "                min_dist=.1,\n",
    "                n_components=2,\n",
    "                metric='cosine')\n",
    "            \n",
    "            self.dim_fit.fit(self.doc_embs['emb'])\n",
    "            u = self.dim_fit.transform(self.doc_embs['emb'])\n",
    "            self.doc_embs['x'] = u[:,0].tolist()\n",
    "            self.doc_embs['y'] = u[:,1].tolist()\n",
    "        \n",
    "    def cluster_embs(self, reduced=False):\n",
    "        if reduced:\n",
    "            X = self.doc_embs['x']\n",
    "        else:\n",
    "            X = self.doc_embs['emb']\n",
    "        \n",
    "        if self.cluster_method == 'kmeans':\n",
    "            self.doc_embs['clusters'] = cluster.KMeans(n_clusters=self.num_clusters, random_state=0).fit_predict(X).tolist()\n",
    "        if type(self.cluster_method) == list:\n",
    "            self.doc_embs['clusters'] == self.cluster_method\n",
    "            \n",
    "    def _doc_centroid_labels(self, nearest_doc_label=True):\n",
    "        from sklearn.neighbors import NearestCentroid\n",
    "        from sklearn.neighbors import NearestNeighbors\n",
    "        X = np.array(eg.doc_embs['emb'])\n",
    "        y = np.array(eg.doc_embs['clusters'])\n",
    "        clf = NearestCentroid()\n",
    "        clf.fit(X, y)\n",
    "        self.doc_embs['cluster_centroids'] = self.dim_fit.transform(clf.centroids_).tolist()\n",
    "        \n",
    "        if nearest_doc_label == True:\n",
    "            combined_embs = np.concatenate((clf.centroids_, X), axis=0)\n",
    "            knn = NearestNeighbors(n_neighbors=self.num_clusters + 1)\n",
    "            knn.fit(combined_embs)\n",
    "            \n",
    "            for i in range(self.num_clusters):\n",
    "                neighbors = knn.kneighbors([combined_embs[i]], return_distance=False)\n",
    "                added = False\n",
    "                for n in neighbors[0]:\n",
    "                    if n > self.num_clusters:\n",
    "                        self.doc_embs['cluster_labels_docs'].append(self.doc_embs['title'][n - self.num_clusters])\n",
    "                        added = True\n",
    "                        break\n",
    "                if added == False:\n",
    "                    print(neighbors)\n",
    "                    self.doc_embs['cluster_labels_docs'].append('error in clustering')\n",
    "        return\n",
    "    \n",
    "    #https://nlp.stanford.edu/IR-book/html/htmledition/cluster-labeling-1.html\n",
    "    #TODO implement internal measures like above\n",
    "    \n",
    "    def _tfidf_cluster_labels(self):\n",
    "        #unimplemented\n",
    "        from gensim.models import TfidfModel\n",
    "        from gensim.corpora import Dictionary\n",
    "        dct = Dictionary(self.doc_embs[\"fulltexts\"]) \n",
    "        cluster_docs = []\n",
    "\n",
    "        for c in self.cluster_docs_idxs.keys():\n",
    "            cluster_doc = []\n",
    "            for d in eg.cluster_docs_idxs[c]:\n",
    "                cluster_doc = cluster_doc + self.doc_embs[\"fulltexts\"][d]\n",
    "            cluster_docs.append(cluster_doc)\n",
    "        corpus = [dct.doc2bow(c_d) for c_d in cluster_docs ]\n",
    "        model = TfidfModel(corpus)\n",
    "\n",
    "        for c_d in corpus:\n",
    "            tfidf_c = model[c_d]\n",
    "\n",
    "            tfidf_c = sorted(tfidf_c, key=lambda x : x[1], reverse=True)\n",
    "            joined_c_tfidf = \" \".join(list(map(lambda x: dct[x[0]], tfidf_c[0:5])))\n",
    "            self.doc_embs['cluster_labels_tfidf'].append(joined_c_tfidf)\n",
    "        return\n",
    "    \n",
    "    def label_clusters(self, method=\"relative\"):\n",
    "        if len(self.doc_embs['clusters']) == 0:\n",
    "            return \"You need to cluster your embeddings first!, run cluster_embs\"\n",
    "        unique_clusters = list(set(self.doc_embs['clusters']))\n",
    "        \n",
    "        self.cluster_docs_idxs = {}\n",
    "        for c in unique_clusters:\n",
    "            indices  = [index for (index, item) in enumerate(self.doc_embs['clusters']) if item == c]\n",
    "            self.cluster_docs_idxs[c] = indices   \n",
    "        \n",
    "        self._doc_centroid_labels()\n",
    "        self._tfidf_cluster_labels()\n",
    "            \n",
    "    def dump_embs(self):\n",
    "        cc = self.cluster_method if type(self.cluster_method) == str else 'custom'\n",
    "        f = open(f\"searcher/static/searcher/bert_method_data/{self.qry_obj['qry']}_{self.qry_obj['database']}_{self.proj_method}_{cc}.json\", 'w')\n",
    "        self.doc_embs['emb'] = []\n",
    "        self.doc_embs['fulltexts'] = []\n",
    "        json.dump(self.doc_embs, f)\n",
    "        f.close()\n",
    "        \n",
    "\n",
    "model_name = 'bert-base-uncased'\n",
    "eg = EmbGenerator(model_name, test_qry_obj, max_length=512, local_rslts=local_rslts)"
   ]
  },
  {
   "cell_type": "code",
   "execution_count": null,
   "id": "cd74439d",
   "metadata": {
    "scrolled": true
   },
   "outputs": [
    {
     "name": "stderr",
     "output_type": "stream",
     "text": [
      "  9%|███▍                                  | 821/9089 [14:53<2:30:03,  1.09s/it]"
     ]
    }
   ],
   "source": [
    "eg.generate_embs()"
   ]
  },
  {
   "cell_type": "code",
   "execution_count": null,
   "id": "4b8c99c9",
   "metadata": {},
   "outputs": [],
   "source": [
    "eg.reduce_dims()"
   ]
  },
  {
   "cell_type": "code",
   "execution_count": null,
   "id": "73577638",
   "metadata": {},
   "outputs": [],
   "source": [
    "eg.cluster_embs()"
   ]
  },
  {
   "cell_type": "code",
   "execution_count": null,
   "id": "b984e801",
   "metadata": {},
   "outputs": [],
   "source": [
    "eg.label_clusters()"
   ]
  },
  {
   "cell_type": "code",
   "execution_count": null,
   "id": "a0b4852a",
   "metadata": {},
   "outputs": [],
   "source": [
    "eg.dump_embs()"
   ]
  },
  {
   "cell_type": "code",
   "execution_count": null,
   "id": "f933ed36",
   "metadata": {
    "scrolled": true
   },
   "outputs": [],
   "source": [
    "len(eg.doc_embs['x'])"
   ]
  },
  {
   "cell_type": "code",
   "execution_count": null,
   "id": "b5facbe0",
   "metadata": {
    "scrolled": false
   },
   "outputs": [],
   "source": [
    "eg.doc_embs['cluster_labels_docs']"
   ]
  },
  {
   "cell_type": "code",
   "execution_count": null,
   "id": "d3184494",
   "metadata": {
    "scrolled": false
   },
   "outputs": [],
   "source": [
    "eg.doc_embs['cluster_labels_tfidf']\n",
    "    "
   ]
  },
  {
   "cell_type": "code",
   "execution_count": 54,
   "id": "24d2dd5f",
   "metadata": {
    "scrolled": true
   },
   "outputs": [
    {
     "name": "stdout",
     "output_type": "stream",
     "text": [
      "0\n",
      "The English nvnne being a treatise wherein (by way of dialogue) the author endeauoureth to draw yong & vnmarried Catholike gentlewomen to imbrace a votary and religious life / written by N.N. Hereunto is annexed a short discourse (by way of conclusion) to the abbesses and religious women of all the English monasteries in the Low-countreys and France.\n",
      "of and to in that\n",
      "1\n",
      "The transactioneer, with some of his philosophical fancies in two dialogues.\n",
      "and of to a in\n",
      "2\n",
      "Julian's arts to undermine and extirpate Christianity together with answers to Constantius the Apostate, and Jovian / by Samuel Johnson.\n",
      "of and to in that\n",
      "3\n",
      "A notable sermo[n] of ye reuerende father Maister Hughe Latemer whiche he preached in ye Shrouds at paules churche in Londo[n], on the. xviii. daye of Ianuary. 1548.\n",
      "of and to whiche hym\n",
      "4\n",
      "The reign of King Charles an history faithfully and impartially delivered and disposed into annals.\n",
      "and of to in that\n",
      "5\n",
      "Diatriba chronologica Johannis Marshami\n",
      "vous amp est ✚ non\n",
      "6\n",
      "The case of Robert Blackburne\n",
      "1570 said g\n",
      "7\n",
      "A pastoral letter from the Lord Bishop of Meaux to the new Catholicks of his diocess exhorting them to keep their Easter, and giving them necessary advertisements against the false pastoral letters of their ministers : with reflections upon the pretended persecution / translated out of French, and publish'd with allowance.\n",
      "of to and that in\n",
      "8\n",
      "Cosmographia, or, A view of the terrestrial and cœlestial globes in a brief explanation of the principles of plain and solid geometry applied to surveying and gauging of cask : the doctrine of primum mobile : with an account of the Juilan & Gregorian calendars, and the computation of the places of the sun, moon, and fixed stars ... : to which is added an introduction unto geography / by John Newton ...\n",
      "yn colum yr neu o‘r\n",
      "9\n",
      "The Scripture directory for church-officers and people, or, A practical commentary upon the whole third chapter of the first Epistle of St. Paul to the Corinthians to which is annexed The godly and the natural mans choice, upon Psal. 4, vers. 6, 7, 8 / by Anthony Burgesse ...\n",
      "and of to in that\n"
     ]
    }
   ],
   "source": [
    "for x in range(eg.num_clusters):\n",
    "    print(x)\n",
    "    print(eg.doc_embs['cluster_labels_docs'][x])\n",
    "    print(eg.doc_embs['cluster_labels_tfidf'][x])"
   ]
  },
  {
   "cell_type": "code",
   "execution_count": 38,
   "id": "6d3ba8b8",
   "metadata": {},
   "outputs": [],
   "source": [
    "test_doc = eg.doc_embs['emb'][0]"
   ]
  },
  {
   "cell_type": "code",
   "execution_count": 39,
   "id": "5d28de04",
   "metadata": {},
   "outputs": [
    {
     "data": {
      "text/plain": [
       "(768,)"
      ]
     },
     "execution_count": 39,
     "metadata": {},
     "output_type": "execute_result"
    }
   ],
   "source": [
    "test_doc.shape"
   ]
  },
  {
   "cell_type": "code",
   "execution_count": 40,
   "id": "00973137",
   "metadata": {},
   "outputs": [
    {
     "data": {
      "text/plain": [
       "numpy.ndarray"
      ]
     },
     "execution_count": 40,
     "metadata": {},
     "output_type": "execute_result"
    }
   ],
   "source": [
    "type(test_doc)"
   ]
  },
  {
   "cell_type": "code",
   "execution_count": 57,
   "id": "f67c7cf2",
   "metadata": {},
   "outputs": [],
   "source": [
    "from sklearn.neighbors import NearestCentroid\n",
    "from sklearn.neighbors import NearestNeighbors"
   ]
  },
  {
   "cell_type": "code",
   "execution_count": 84,
   "id": "6410a73e",
   "metadata": {
    "scrolled": false
   },
   "outputs": [
    {
     "data": {
      "text/plain": [
       "(10, 768)"
      ]
     },
     "execution_count": 84,
     "metadata": {},
     "output_type": "execute_result"
    }
   ],
   "source": [
    "X = np.array(eg.doc_embs['emb'])\n",
    "y = np.array(eg.doc_embs['clusters'])\n",
    "clf = NearestCentroid()\n",
    "clf.fit(X, y)\n",
    " \n",
    "`\n",
    "clf.centroids_.shape"
   ]
  },
  {
   "cell_type": "code",
   "execution_count": 85,
   "id": "a5ebbf0b",
   "metadata": {
    "scrolled": true
   },
   "outputs": [
    {
     "data": {
      "text/plain": [
       "numpy.ndarray"
      ]
     },
     "execution_count": 85,
     "metadata": {},
     "output_type": "execute_result"
    }
   ],
   "source": [
    "type(clf.centroids_)"
   ]
  },
  {
   "cell_type": "code",
   "execution_count": 86,
   "id": "0a222dbb",
   "metadata": {
    "scrolled": true
   },
   "outputs": [
    {
     "data": {
      "text/plain": [
       "numpy.ndarray"
      ]
     },
     "execution_count": 86,
     "metadata": {},
     "output_type": "execute_result"
    }
   ],
   "source": [
    "type(X)"
   ]
  },
  {
   "cell_type": "code",
   "execution_count": 89,
   "id": "dee2c61e",
   "metadata": {},
   "outputs": [],
   "source": [
    "combined_embs = np.concatenate((clf.centroids_, X), axis=0)"
   ]
  },
  {
   "cell_type": "code",
   "execution_count": 90,
   "id": "328a510e",
   "metadata": {
    "scrolled": true
   },
   "outputs": [
    {
     "data": {
      "text/plain": [
       "(110, 768)"
      ]
     },
     "execution_count": 90,
     "metadata": {},
     "output_type": "execute_result"
    }
   ],
   "source": [
    "combined_embs.shape"
   ]
  },
  {
   "cell_type": "code",
   "execution_count": 114,
   "id": "e8f244f6",
   "metadata": {},
   "outputs": [],
   "source": [
    "knn = NearestNeighbors(n_neighbors=5)"
   ]
  },
  {
   "cell_type": "code",
   "execution_count": 115,
   "id": "ad8dfda7",
   "metadata": {
    "scrolled": true
   },
   "outputs": [
    {
     "data": {
      "text/plain": [
       "NearestNeighbors()"
      ]
     },
     "execution_count": 115,
     "metadata": {},
     "output_type": "execute_result"
    }
   ],
   "source": [
    "knn.fit(combined_embs)"
   ]
  },
  {
   "cell_type": "code",
   "execution_count": 121,
   "id": "ee36f5f5",
   "metadata": {},
   "outputs": [
    {
     "data": {
      "text/plain": [
       "29"
      ]
     },
     "execution_count": 121,
     "metadata": {},
     "output_type": "execute_result"
    }
   ],
   "source": [
    "rslt = knn.kneighbors([combined_embs[9]], return_distance=False)\n",
    "\n",
    "rslt[0][1] - 10\n"
   ]
  },
  {
   "cell_type": "code",
   "execution_count": null,
   "id": "577cec46",
   "metadata": {},
   "outputs": [],
   "source": [
    "XX = np.array[]"
   ]
  },
  {
   "cell_type": "code",
   "execution_count": 56,
   "id": "a4a920bd",
   "metadata": {},
   "outputs": [
    {
     "name": "stdout",
     "output_type": "stream",
     "text": [
      "A: [-1.43004119e-01  1.14563979e-01  1.45867229e-01 -2.04900369e-01\n",
      "  3.44652608e-02 -1.19383693e-01  2.45175600e-01  8.42082426e-02\n",
      " -1.22662850e-01  1.80233084e-03 -1.57775447e-01 -4.11728531e-01\n",
      " -1.87742829e-01  4.24652994e-02  8.72433782e-02  4.32404608e-01\n",
      "  4.22497958e-01 -1.68222994e-01 -1.38846368e-01  3.29564512e-01\n",
      "  2.43533492e-01 -1.59442008e-01  2.04009145e-01  6.48970962e-01\n",
      "  4.34518963e-01  9.36256200e-02  4.67887104e-01  1.21314473e-01\n",
      " -5.17959222e-02 -8.58383067e-03  7.43761957e-01  2.22229511e-01\n",
      "  1.72250032e-01 -8.04997757e-02  1.18688226e-01  1.29513144e-01\n",
      " -1.45678613e-02 -1.64983019e-01  9.27333608e-02  2.68303812e-01\n",
      " -2.94840068e-01 -5.26194572e-01 -2.77666867e-01 -1.49034664e-01\n",
      " -2.13052303e-01 -4.41331178e-01  2.82821685e-01  2.17839442e-02\n",
      "  1.67615235e-01  1.22373782e-01 -3.21592122e-01  4.31020290e-01\n",
      "  1.89112201e-02 -1.85902089e-01 -2.49869645e-01  6.42519057e-01\n",
      "  1.60114065e-01 -4.03126806e-01 -4.21593785e-01 -2.51827121e-01\n",
      "  2.24453896e-01 -3.69420275e-03 -8.21790695e-02 -1.30915046e-01\n",
      "  1.06110767e-01  2.99076706e-01  1.49204373e-01  5.22788703e-01\n",
      " -4.88492012e-01  1.27013540e-03 -2.31386587e-01  2.06874400e-01\n",
      " -4.69340354e-01  7.84579366e-02 -1.90373406e-01 -1.52722709e-02\n",
      " -1.47183269e-01  1.79611117e-01 -1.35859847e-03  1.00096181e-01\n",
      " -2.04901069e-01  2.29354635e-01 -2.49619961e-01  2.52726138e-01\n",
      " -1.52668115e-02 -2.18674131e-02  1.32483095e-01  1.45074472e-01\n",
      " -3.05986732e-01  5.40537000e-01  9.46876928e-02 -8.74831453e-02\n",
      "  2.72401631e-01 -3.36536169e-02  4.73770797e-02  1.24086767e-01\n",
      "  1.20046481e-01  8.36016983e-02  7.53632337e-02  9.11070853e-02\n",
      "  3.89616340e-02 -4.51366752e-02  1.31191909e-01  4.54333425e-01\n",
      " -3.03204089e-01 -1.09158076e-01  8.55087712e-02  1.55184880e-01\n",
      " -1.61495313e-01  3.67104709e-01 -1.91037711e-02 -3.15548003e-01\n",
      " -1.14669301e-01 -2.13287026e-01 -1.62269697e-01 -1.65635273e-01\n",
      "  1.07193021e-02 -7.94570148e-03 -1.23050958e-01  2.65273988e-01\n",
      " -3.00645351e-01 -4.55014445e-02  1.76850200e-01  8.18178236e-01\n",
      " -5.60378879e-02 -5.24521805e-02  4.91481200e-02  1.91938967e-01\n",
      " -1.31106615e-01  1.41896591e-01  1.84862778e-01  1.98507085e-01\n",
      "  1.25666156e-01 -4.50349569e-01 -1.40940025e-01 -2.47123688e-01\n",
      " -2.19479471e-01 -1.27069160e-01 -1.81412086e-01 -1.36474743e-01\n",
      "  1.93220735e-01  3.31711024e-02  3.77597332e-01 -4.91578039e-03\n",
      " -5.23013249e-02 -1.03669412e-01 -3.17428261e-01 -2.33364664e-03\n",
      "  4.20207642e-02  3.28426715e-03  1.41965106e-01  3.52768041e-02\n",
      " -2.79736724e-02 -2.66472429e-01 -1.32200480e-01  2.78836377e-02\n",
      " -3.98338377e-01  1.89218089e-01 -1.84753612e-01 -1.10744327e-01\n",
      "  3.06988597e-01  1.36555180e-01 -5.12004375e-01  5.01935720e-01\n",
      " -5.21359295e-02  1.17594779e-01 -1.90286323e-01  5.17581105e-01\n",
      " -1.84775919e-01 -1.51335582e-01 -1.51815265e-01 -4.11878586e-01\n",
      "  6.21669114e-01 -1.62130743e-01 -4.48547900e-02 -1.10596947e-01\n",
      "  7.39865303e-02 -1.94451109e-01 -2.84422133e-02  5.67590818e-02\n",
      " -6.98656678e-01  3.77019733e-01 -3.35603952e-04  2.80567795e-01\n",
      "  5.00630677e-01 -1.75695997e-02  4.03256178e-01 -5.47620542e-02\n",
      "  1.17357694e-01  7.22113848e-02 -3.43374044e-01 -4.44881469e-01\n",
      " -2.04857066e-01  1.13013223e-01  1.22664064e-01 -1.29173636e-01\n",
      " -5.19168638e-02 -2.87684441e-01 -2.39035755e-01 -2.40802258e-01\n",
      " -4.33270484e-02  4.06471848e-01  3.99635136e-01 -5.12524545e-02\n",
      " -1.59688100e-01 -2.69187987e-01  1.36102989e-01 -3.04209471e-01\n",
      " -1.28909856e-01 -9.20060724e-02 -4.21246320e-01  5.33953905e-02\n",
      "  1.81384712e-01 -1.15526907e-01  5.48150912e-02 -3.03234197e-02\n",
      " -1.07493222e-01 -8.28959867e-02  1.38485193e-01 -3.39187644e-02\n",
      " -1.35842208e-02 -1.60927132e-01 -2.69605786e-01  4.15805429e-01\n",
      " -1.48064643e-01  7.10499883e-01  3.57286930e-01 -6.76090300e-01\n",
      "  2.52346575e-01  4.09569651e-01 -1.42905444e-01 -3.41147959e-01\n",
      "  6.74540460e-01 -3.56768854e-02 -1.34043247e-01  9.50904191e-02\n",
      " -1.89306304e-01 -1.35221675e-01  2.57242113e-01 -3.12773198e-01\n",
      " -8.20353329e-02  4.92816746e-01  4.06374127e-01  1.72606185e-01\n",
      "  1.54887751e-01  2.65165623e-02 -6.55018464e-02  8.12648833e-02\n",
      " -8.93817097e-02 -2.36788377e-01 -1.16047949e-01 -1.44837782e-01\n",
      " -1.46649390e-01 -3.48803073e-01  1.09787151e-01 -3.91351134e-01\n",
      " -2.53371149e-03 -3.51200312e-01  6.71718419e-02 -9.30456817e-02\n",
      "  1.09883420e-01 -7.01136142e-02  3.71736646e-01  3.03149462e-01\n",
      " -2.02395201e-01 -3.28094274e-01  8.64635780e-03  3.70272547e-01\n",
      "  1.66245177e-01 -5.38614169e-02  1.66813545e-02  3.10452487e-02\n",
      " -5.29021211e-02  7.18020916e-01 -4.18246955e-01 -1.08294755e-01\n",
      "  2.54906118e-01  3.38318467e-01 -2.31383249e-01 -3.35667729e-01\n",
      "  2.83341166e-02  1.01974204e-01 -1.48754746e-01 -1.24711826e-01\n",
      " -3.67635339e-02 -8.01087320e-02 -3.09602227e-02  6.67794049e-02\n",
      " -8.94535035e-02 -1.93503231e-01 -1.31382585e-01  3.38122666e-01\n",
      "  3.70024964e-02 -3.54368389e-01  2.18393654e-01 -3.56678665e-02\n",
      " -1.81253217e-02  2.50080615e-01  5.76452851e-01 -1.23811059e-01\n",
      "  2.42019184e-02 -2.21609414e-01 -3.94543350e-01  1.59542501e-01\n",
      " -2.80132890e-01  1.25561059e-01 -1.52808189e-01 -1.88873544e-01\n",
      " -4.11360550e+00  1.12644434e-01 -8.79694745e-02  7.77298659e-02\n",
      "  2.11959213e-01  4.03991342e-03  9.57009420e-02 -1.20820239e-01\n",
      " -4.10377890e-01  2.26276755e-01 -3.06533962e-01 -3.77954692e-01\n",
      "  4.23482239e-01  2.91367739e-01  1.20623484e-01  1.57115653e-01\n",
      "  6.01953208e-01 -4.02297199e-01 -5.52053824e-02  4.26659137e-01\n",
      " -2.16847509e-01 -4.78596568e-01 -8.83289576e-02  6.38730377e-02\n",
      "  3.81988645e-01  4.66294765e-01 -7.53704309e-02  1.62082359e-01\n",
      " -1.92155063e-01 -2.05274820e-01  3.23019996e-02 -3.36077541e-01\n",
      " -1.87373701e-02  4.67774808e-01  2.17173278e-01 -8.43885355e-03\n",
      "  1.31306142e-01 -4.04434055e-01 -2.57631928e-01 -2.60009259e-01\n",
      " -1.91555798e-01 -6.74119711e-01 -2.15517804e-01 -8.08220208e-02\n",
      "  5.79481244e-01 -1.61557332e-01  1.36436522e-01 -2.77270645e-01\n",
      " -6.30727559e-02 -2.12028071e-01  4.01952922e-01  8.74038599e-03\n",
      " -4.24576253e-01 -4.17917222e-02 -5.49126379e-02  1.73084021e-01\n",
      "  2.92439044e-01  4.28017318e-01 -3.71223539e-01 -4.34542179e-01\n",
      "  2.91795075e-01  1.03147216e-02 -5.96511066e-01 -3.24978121e-02\n",
      " -2.67173588e-01 -6.57914728e-02 -5.56654453e-01 -2.02776030e-01\n",
      " -1.42409831e-01  5.83921894e-02 -1.92357078e-01  4.82478291e-01\n",
      " -3.30513716e-01 -2.93544054e-01 -1.56837136e-01 -1.93019643e-01\n",
      "  1.67500749e-01 -1.18343450e-01 -7.66551346e-02  5.52143157e-02\n",
      " -6.02627277e-01 -3.26897204e-01  1.73549891e-01 -6.84313942e-03\n",
      " -5.93182743e-02 -1.65371239e-01  1.59150377e-01  1.71011969e-01\n",
      " -1.59123376e-01 -5.56620955e-01  2.90528685e-01 -4.59833443e-03\n",
      "  1.93851948e-01  1.59575984e-01  3.19598645e-01 -4.03787848e-03\n",
      "  3.34629744e-01 -1.90650284e-01  1.70092896e-01 -3.04122090e-01\n",
      "  3.75930786e-01 -4.26369067e-03  1.76258817e-01 -3.47508490e-01\n",
      " -2.53338903e-01  1.61434963e-01 -2.06393823e-01  6.95084631e-02\n",
      "  1.80500433e-01 -2.86335558e-01  3.30786556e-01 -3.36317420e-01\n",
      "  2.62523830e-01 -1.34232104e-01  2.14528054e-01 -2.04851076e-01\n",
      "  3.10874999e-01  3.23150396e-01  1.67152472e-02  1.22052923e-01\n",
      " -1.18846111e-01  4.04501170e-01 -4.20869023e-01 -3.94003987e-01\n",
      " -2.91933328e-01  7.63547942e-02 -3.64089876e-01 -3.25408801e-02\n",
      " -5.42439520e-05 -1.13211408e-01  9.59905460e-02 -2.25911438e-01\n",
      " -3.76663171e-02  3.16373080e-01  1.72332555e-01 -8.04869458e-04\n",
      " -1.95757732e-01 -3.83413941e-01 -1.96392357e-01  5.30051440e-02\n",
      "  1.63072526e-01  3.33538860e-01  2.59198606e-01 -1.90062210e-01\n",
      "  4.44769949e-01  3.49111319e-01 -1.70179024e-01 -1.59972906e-01\n",
      " -1.88140213e-01  2.86386069e-02 -2.50127226e-01 -6.81272388e-01\n",
      " -2.10168272e-01 -7.24235997e-02  1.64666586e-02  1.38947785e-01\n",
      "  5.24074286e-02  4.14997637e-02  4.66143861e-02 -4.22409683e-01\n",
      "  2.89196849e-01  3.54498439e-02  3.70436788e-01  1.72656059e-01\n",
      " -4.02029246e-01  5.34500778e-01  2.25997552e-01  1.60416607e-02\n",
      "  8.04656595e-02  2.87829954e-02 -1.31963938e-01 -1.61939546e-01\n",
      " -1.19042909e-03 -4.96038832e-02 -2.92036682e-01  2.71623015e-01\n",
      " -8.00848976e-02 -2.87163615e-01 -1.02559313e-01  2.16549754e-01\n",
      " -2.33716190e-01 -1.44501597e-01 -2.57273018e-01 -1.18010558e-01\n",
      "  6.01359248e-01  2.50902921e-01  2.49839909e-02 -2.90970922e-01\n",
      "  1.56383261e-01  3.18822294e-01  1.18506797e-01  7.74523988e-03\n",
      "  6.74229413e-02 -2.02719048e-01 -6.72893226e-02 -4.71374542e-01\n",
      "  3.98797184e-01 -6.84877411e-02 -3.21866423e-01  4.63360369e-01\n",
      "  1.58117920e-01 -1.24629095e-01 -7.93589801e-02 -8.86146575e-02\n",
      " -2.43393242e-01 -3.86781126e-01 -1.41990513e-01  2.05792546e-01\n",
      " -4.31391113e-02 -2.61494428e-01 -2.61253119e-01 -9.81287137e-02\n",
      " -4.42765057e-01 -3.54209170e-03  1.01915263e-02 -2.62253404e-01\n",
      " -2.83715785e-01 -3.93010557e-01 -1.21914685e-01  2.68474817e-02\n",
      " -2.83637762e-01  6.80007134e-03 -3.53618674e-02 -1.54611558e-01\n",
      "  1.46025317e-02 -3.48023385e-01  7.03443959e-02 -2.47399986e-01\n",
      " -6.97328508e-01 -2.65227765e-01  4.28718366e-02 -4.81704623e-01\n",
      "  1.35591716e-01  5.29407039e-02 -3.09038665e-02  1.73572406e-01\n",
      "  1.63605779e-01 -4.83763486e-01  1.53862119e-01 -2.39966512e-02\n",
      " -4.99413371e-01  4.10953723e-02 -2.24276140e-01 -5.27434945e-01\n",
      "  1.75695568e-01  4.08558026e-02 -1.18209943e-01  4.13092971e-01\n",
      " -1.35960534e-01  3.12062860e-01 -9.47698876e-02  7.34003410e-02\n",
      " -4.99727055e-02 -3.23051929e-01  3.08458284e-02 -3.26420099e-01\n",
      " -2.91605979e-01 -3.34906057e-02 -1.65436238e-01 -1.26038164e-01\n",
      " -1.39693052e-01  4.03897651e-02  4.55208831e-02  5.96098602e-03\n",
      "  1.13385737e-01  2.79390812e-02 -1.57031998e-01  7.12520480e-02\n",
      "  2.33037978e-01 -4.11378533e-01  1.49592161e-01 -1.18048258e-01\n",
      "  1.33114219e-01 -1.72124267e-01  3.98976877e-02  1.20774023e-01\n",
      " -1.89721569e-01 -2.82782823e-01  1.14284046e-01 -4.68607187e-01\n",
      " -2.12746128e-01 -2.22364038e-01  1.50570422e-01  1.31180808e-02\n",
      "  3.15360695e-01 -1.68844700e-01 -2.34831609e-02  4.63182390e-01\n",
      " -8.83720219e-02 -8.89723301e-02  5.77372670e-01 -1.25920281e-01\n",
      " -3.49228501e-01 -2.73340251e-02 -2.79519320e-01  2.94473529e-01\n",
      "  5.18691242e-01  1.13450944e-01 -2.01607406e-01  1.07208155e-01\n",
      " -2.40206495e-01  2.41609942e-02  3.12862337e-01  1.26702115e-01\n",
      " -6.32979125e-02  6.23578429e-02  2.17212915e-01 -6.03722572e-01\n",
      " -1.38780370e-01 -1.44221485e-01  1.47664562e-01 -1.66079253e-01\n",
      "  4.71123636e-01  3.13716233e-01 -2.02954590e-01 -4.55749899e-01\n",
      " -2.82244861e-01  3.64933461e-02  1.55999675e-01  2.08565831e-01\n",
      "  1.64750099e-01  2.34174669e-01  5.22050560e-01  1.08675644e-01\n",
      "  4.29430492e-02  3.01098347e-01  3.03639229e-02  1.23201214e-01\n",
      "  2.21998915e-02  3.23357046e-01 -8.54018927e-02  7.28942603e-02\n",
      " -9.94664133e-02  3.12713265e-01  1.84362307e-02 -1.06602937e-01\n",
      " -7.79441595e-02 -1.14445068e-01  1.74066536e-02 -4.81137559e-02\n",
      "  1.91944420e-01  1.84733137e-01  4.59715217e-01  1.49649709e-01\n",
      "  3.56920719e-01  2.16536298e-01  3.60174589e-02 -2.46903062e-01\n",
      "  5.68559825e-01  3.60003531e-01  2.22220004e-01  1.71741724e-01\n",
      " -7.27470368e-02  1.92204654e-01  3.49424481e-02  1.92706198e-01\n",
      " -1.02456929e-02  1.72448948e-01 -1.53745145e-01  8.51500750e-01\n",
      "  2.42708921e-01  3.63017172e-01  1.52026623e-01 -3.46396089e-01\n",
      " -1.44612312e-01  8.33573043e-02  9.66466069e-02 -3.26015532e-01\n",
      "  1.37236416e-02  5.70638962e-02  3.05047274e-01  1.22772872e-01\n",
      " -2.91217387e-01 -2.82270044e-01 -7.49067515e-02  2.39144802e-01\n",
      " -1.15431815e-01 -2.53730237e-01 -2.09326029e-01  4.27664667e-02\n",
      " -8.71835798e-02  8.36800560e-02 -7.62418434e-02 -3.47140789e-01\n",
      " -1.87701508e-01  2.00064536e-02 -2.97133148e-01  2.75288410e-02\n",
      "  8.38910565e-02 -3.32981944e-01  4.05504704e-02  1.39717162e-01\n",
      "  9.43580344e-02 -1.84876442e-01 -6.42677099e-02 -1.97524682e-01\n",
      "  1.86220899e-01 -8.06223694e-03  6.38081014e-01  1.31930858e-01\n",
      "  3.85580719e-01 -4.01718259e-01 -1.69169381e-01  1.63461000e-01\n",
      "  1.35776877e-01  2.85849452e-01 -1.01758540e-01  3.27720791e-01\n",
      " -2.77270555e-01  5.44664972e-02  3.71375918e-01  5.06884873e-01\n",
      " -4.33562338e-01  1.98829487e-01  5.65683655e-03  1.85854495e-01\n",
      "  1.58384014e-02 -2.26306081e-01 -4.12370265e-01  1.18589364e-01\n",
      " -4.10645723e-01 -4.16385949e-01  7.95647278e-02  3.86707336e-02\n",
      " -2.21067458e-01 -2.23472625e-01  1.92244723e-01  6.53572902e-02\n",
      "  5.35622053e-02  6.38073962e-03 -3.34524095e-01  3.71610746e-02\n",
      " -4.49312329e-02 -1.78315900e-02 -2.99542367e-01 -1.44377723e-01\n",
      " -2.37980023e-01  1.50611311e-01 -2.18232721e-01  9.94264036e-02\n",
      "  4.03215140e-01  3.64473253e-01  1.38795767e-02  4.73404825e-02\n",
      "  7.61204660e-01 -7.30817169e-02  3.80006954e-02 -1.52036175e-01\n",
      " -8.97618979e-02 -1.35744676e-01  1.12375103e-01  7.01705739e-03\n",
      "  3.70560884e-02 -1.58966929e-01  1.30525693e-01 -3.93802702e-01\n",
      " -2.00096503e-01 -1.30716771e-01  1.73754334e-01 -1.43110216e-01]\n",
      "B: [-1.96384609e-01  6.73361942e-02  4.34199162e-02 -1.24486722e-01\n",
      "  3.33815515e-01 -9.90390256e-02  1.14231080e-01  6.20424524e-02\n",
      "  7.21323788e-02 -7.74128735e-03 -1.02025002e-01 -3.46202821e-01\n",
      " -1.26327857e-01  1.92059517e-01  7.34957755e-02  5.94570160e-01\n",
      "  3.01992983e-01 -2.77375150e-02 -2.60930687e-01  2.32835233e-01\n",
      "  3.10467720e-01 -2.81193674e-01 -3.39847244e-02  6.06391609e-01\n",
      "  2.71547168e-01 -1.24437995e-01  6.16752915e-02  4.73926589e-02\n",
      "  9.07423254e-03 -1.83538988e-01  4.41276282e-01  3.22259396e-01\n",
      " -1.66692287e-01 -2.51531720e-01 -8.44559148e-02  2.46584505e-01\n",
      " -4.08572033e-02 -1.87364727e-01 -3.01131643e-02  1.40890926e-01\n",
      " -5.11204123e-01 -3.42053115e-01 -2.84910858e-01 -4.86094970e-03\n",
      " -1.46699190e-01 -1.49781093e-01  2.40329906e-01  1.97712749e-01\n",
      "  5.85344248e-02  4.66936678e-02 -3.93847197e-01  1.51091814e-01\n",
      "  1.90377533e-01 -8.97108689e-02  4.47410159e-02  7.43325591e-01\n",
      " -1.90895140e-01 -3.91370565e-01 -2.97970831e-01 -2.69506961e-01\n",
      " -8.07720348e-02 -1.51217237e-01  6.94259480e-02 -2.90047824e-01\n",
      "  3.29304636e-01  2.69936115e-01  8.69228318e-02  3.37380588e-01\n",
      " -4.39658374e-01  6.40469193e-02 -2.43155330e-01  2.00359255e-01\n",
      " -2.97174335e-01  1.38974562e-01 -7.06343949e-02  9.88908261e-02\n",
      " -2.62243927e-01  1.41561761e-01  9.47573707e-02  3.86432633e-02\n",
      " -2.31697008e-01  9.62077454e-02 -3.37353408e-01  3.31261754e-01\n",
      " -1.63704026e-02  2.07410842e-01  1.55293152e-01  3.10695171e-01\n",
      " -5.44720054e-01  5.06446421e-01 -1.31475516e-02 -2.05594189e-02\n",
      "  1.32371053e-01 -2.54875608e-02  1.96375355e-01 -2.85927635e-02\n",
      "  1.13075018e-01  1.33788720e-01 -1.46381140e-01  3.02261859e-01\n",
      " -7.63583416e-03 -1.44225597e-01  7.65452022e-03  5.32816574e-02\n",
      " -2.62896150e-01 -1.36151165e-01  5.26835136e-02  6.91597387e-02\n",
      " -2.05706090e-01  4.60269123e-01  8.67279097e-02 -1.22770429e-01\n",
      " -1.48794889e-01 -3.94737452e-01 -2.48033732e-01 -1.95269927e-01\n",
      " -1.37813568e-01 -8.35627764e-02  5.16837426e-02  1.13339461e-01\n",
      " -1.85447827e-01  2.14515612e-01  6.32732287e-02  7.67261207e-01\n",
      " -1.87405735e-01 -5.18777780e-02 -3.45948339e-02  5.80784082e-02\n",
      " -2.32647099e-02  1.14763267e-01  1.72295511e-01  2.40118206e-01\n",
      "  8.57675523e-02 -2.80650288e-01 -2.59448081e-01  8.78079236e-03\n",
      " -1.32596120e-01 -2.39090621e-01 -1.39635071e-01  4.31526161e-04\n",
      "  4.91076745e-02 -3.16976547e-01  4.15268362e-01  8.01199302e-02\n",
      "  2.48228274e-02 -1.41318560e-01 -2.11366653e-01  4.81610112e-02\n",
      "  1.33788854e-01  3.02192897e-01  1.86500207e-01  9.08110943e-03\n",
      " -7.83198923e-02 -2.00902566e-01 -2.71499157e-01 -4.47286330e-02\n",
      " -2.03110293e-01  1.73293576e-01 -2.81011552e-01 -6.92788213e-02\n",
      "  4.11562711e-01 -8.07964802e-03 -1.13689348e-01  3.53285640e-01\n",
      " -1.83357159e-03  1.55365378e-01  7.50039443e-02  5.75505018e-01\n",
      " -1.73665687e-01  2.09662527e-01 -1.69713795e-01 -4.84375656e-01\n",
      "  5.19348443e-01  7.95651518e-04 -4.56677936e-02 -1.09294087e-01\n",
      "  1.44409329e-01 -1.34516507e-01  3.04855227e-01  1.01075135e-01\n",
      " -8.71851206e-01  3.07997108e-01  1.34601593e-02  1.13850385e-01\n",
      "  3.27050894e-01 -1.56298503e-01  3.89945477e-01 -1.33977264e-01\n",
      "  2.16352776e-01 -4.64008823e-02 -1.31778017e-01 -1.79069012e-01\n",
      " -2.15225786e-01  3.54677392e-03  3.36129725e-01 -2.35309690e-01\n",
      " -7.16767162e-02 -4.69734855e-02 -3.19629341e-01 -1.92687988e-01\n",
      " -1.21417798e-01  3.19707066e-01  2.51919270e-01  4.25474122e-02\n",
      " -1.43800080e-02 -3.57653409e-01  1.85888875e-02 -3.48631978e-01\n",
      " -4.43318076e-02  2.37733707e-01 -2.92752296e-01  2.11215094e-01\n",
      "  6.24415129e-02 -1.05146125e-01  1.49937794e-01 -1.30945742e-01\n",
      "  7.12755322e-02  1.09164588e-01  6.50161058e-02 -3.98564190e-02\n",
      " -6.05859384e-02 -1.83819950e-01 -2.79518217e-01  5.42260051e-01\n",
      " -1.54766053e-01  8.21273744e-01  2.75422335e-01 -6.17991328e-01\n",
      "  3.31372559e-01  5.61396182e-01  5.85411564e-02 -2.79597014e-01\n",
      "  7.31620669e-01 -1.22807585e-01 -1.02422848e-01 -4.59478237e-02\n",
      " -7.98286721e-02 -6.56154230e-02  1.25278726e-01 -3.09036255e-01\n",
      " -3.52627754e-01  4.84410971e-01  2.26249680e-01 -9.52293724e-02\n",
      " -1.12570869e-02 -1.93105876e-01  4.66130115e-02  2.28711262e-01\n",
      " -4.45911139e-01 -2.94717669e-01 -3.49505752e-01 -2.46279463e-01\n",
      "  1.42071340e-02 -4.01083887e-01  7.83332959e-02 -3.33260894e-01\n",
      " -8.33027288e-02 -3.35779518e-01  2.39069387e-02  5.03468663e-02\n",
      "  2.33663976e-01  8.48562345e-02  2.84559309e-01  4.07296382e-02\n",
      " -1.44354030e-01 -4.55658436e-01 -6.94166496e-02  1.49059877e-01\n",
      "  4.27904189e-01  7.90723115e-02  6.00224696e-02  1.71495825e-01\n",
      " -2.82686889e-01  4.41435695e-01 -3.03580642e-01 -2.85017014e-01\n",
      "  4.43128012e-02  1.86404139e-01 -1.33763701e-01 -1.34275094e-01\n",
      "  1.03107370e-01  3.28614563e-01 -1.01808682e-01  1.10652886e-01\n",
      " -2.96399176e-01 -2.95201130e-02 -1.16660576e-02 -6.82157092e-03\n",
      " -1.12128958e-01 -3.99141729e-01 -2.18806013e-01  2.49103278e-01\n",
      " -4.61751193e-01 -1.59732714e-01 -5.57108549e-04  9.40271914e-02\n",
      "  1.62456691e-01  1.79046407e-01  4.06035691e-01 -1.73414797e-01\n",
      " -4.97126803e-02 -3.41084450e-01  7.37040192e-02  2.44048670e-01\n",
      " -2.08266109e-01  9.78233945e-03  5.99405766e-02 -3.28359127e-01\n",
      " -3.46225595e+00  7.58019537e-02  1.76670417e-01 -1.91810444e-01\n",
      "  4.35116231e-01  3.46240820e-03 -6.14398979e-02 -1.05479240e-01\n",
      " -2.62321264e-01  1.49615288e-01 -2.74785995e-01 -3.92861962e-01\n",
      "  1.40674785e-01  6.41190493e-03  1.66681871e-01 -1.79803506e-01\n",
      "  3.06819491e-02 -2.65688986e-01  1.01814441e-01  3.81619602e-01\n",
      " -1.15506247e-01 -5.72615862e-01  5.93217537e-02 -2.93468591e-03\n",
      "  1.02533214e-01  9.43602696e-02 -2.46919870e-01  8.61635357e-02\n",
      " -3.71496826e-01 -3.45456481e-01 -4.91674729e-02 -4.63999391e-01\n",
      " -6.51179347e-03  4.40649927e-01  2.12148488e-01  1.75184458e-02\n",
      " -6.98318332e-02 -4.06716228e-01 -9.78075415e-02 -4.66697991e-01\n",
      " -1.74394771e-01 -6.43304825e-01 -4.87605259e-02 -1.44612029e-01\n",
      "  5.42865992e-01 -1.82215661e-01  2.39659131e-01  1.12401489e-02\n",
      "  7.18366280e-02  1.53770894e-01  1.52333200e-01 -7.46433856e-03\n",
      " -2.56146610e-01  1.11857817e-01  1.14558429e-01 -6.90892711e-02\n",
      "  2.16356933e-01  3.33773613e-01 -4.27197814e-01 -3.52137059e-01\n",
      "  1.66907609e-01 -4.58393665e-03 -7.98594832e-01 -9.35256854e-02\n",
      " -6.00285903e-02 -2.20117122e-01 -6.85049295e-01 -1.09496161e-01\n",
      "  7.66642913e-02  6.50783926e-02 -1.20957606e-01  3.73043478e-01\n",
      " -3.39320660e-01 -3.71281624e-01  9.10896882e-02 -3.31198245e-01\n",
      "  2.16560230e-01 -1.42879248e-01  3.47591238e-03  2.77058817e-02\n",
      " -4.38053459e-01 -3.00861388e-01  4.20476317e-01 -4.88588810e-02\n",
      "  1.16910763e-01 -1.97099030e-01 -5.69202844e-03  9.19895172e-02\n",
      " -3.18766743e-01 -3.24846208e-01  3.64925176e-01  1.08483635e-01\n",
      "  2.18668133e-01  1.80100143e-01  6.42882586e-02  6.03754781e-02\n",
      "  2.31422693e-01  9.52014923e-02  4.51727211e-01 -1.85870230e-01\n",
      "  3.18793505e-01 -4.32653613e-02  4.55975175e-01 -2.44582251e-01\n",
      " -1.63499355e-01  4.90219258e-02 -4.37452614e-01 -4.96033877e-02\n",
      "  1.72936231e-01 -1.22804567e-01  5.41329123e-02 -2.58828104e-01\n",
      "  4.32315767e-01 -1.81188375e-01  2.13034764e-01 -4.39716764e-02\n",
      "  2.35213205e-01  4.18193817e-01  1.57416552e-01 -1.20053142e-01\n",
      " -1.94584597e-02  5.34981430e-01 -4.33694631e-01 -2.98332095e-01\n",
      " -1.91360295e-01  1.33118391e-01 -1.42638028e-01  2.51927495e-01\n",
      " -1.41791195e-01 -1.24211892e-01 -1.53003454e-01 -2.50692368e-01\n",
      " -2.11610451e-01  1.87762335e-01  2.75954902e-01 -6.79315105e-02\n",
      " -3.25502515e-01 -1.02388211e-01 -2.74241090e-01  2.94830441e-01\n",
      "  9.62473825e-02  9.48170051e-02  1.75440088e-01 -2.01661959e-01\n",
      "  1.33770704e-01  2.47102201e-01 -4.73086685e-02 -3.22136749e-03\n",
      " -1.16903871e-01 -2.45359223e-02 -1.61853790e-01 -3.88498485e-01\n",
      " -6.52465001e-02 -2.47391328e-01 -4.25205790e-02  2.19000489e-01\n",
      "  2.44155139e-01 -7.65156820e-02  2.13577338e-02 -5.82496762e-01\n",
      "  2.39816695e-01  1.59200430e-01  4.91628587e-01 -5.53525705e-03\n",
      " -3.96250457e-01  3.82596016e-01  1.40982971e-01  4.74134125e-02\n",
      "  7.73958862e-02  9.63298976e-03 -1.54528543e-01 -1.84645504e-01\n",
      "  2.89316714e-01 -1.97763383e-01 -2.22422466e-01  3.76386046e-01\n",
      " -8.36288184e-02 -2.74333298e-01 -1.00932084e-01  3.88566673e-01\n",
      "  2.22769305e-02 -2.67213434e-01 -2.18585953e-01 -1.49091229e-01\n",
      "  3.82798404e-01  6.16920367e-02  2.15476528e-02 -4.03223187e-01\n",
      " -4.21249457e-02 -1.92193817e-02  1.16805002e-01  1.91955775e-01\n",
      " -4.07160334e-02 -4.09715652e-01 -1.86041057e-01 -1.39855698e-01\n",
      "  1.60824314e-01 -2.17279997e-02  7.67094195e-02  7.23370612e-02\n",
      "  2.61154979e-01 -1.83790296e-01 -3.70572284e-02 -1.28360853e-01\n",
      "  1.44818291e-01 -2.66839623e-01 -2.61848830e-02  2.07582623e-01\n",
      " -3.89380492e-02 -9.80551541e-02 -1.98878855e-01 -3.72649789e-01\n",
      " -3.43284011e-01 -4.75493297e-02  9.46899652e-02 -1.13250658e-01\n",
      " -1.42783314e-01 -1.96541414e-01 -3.61419022e-01  2.64942288e-01\n",
      "  2.79298350e-02  4.10421528e-02  2.25448579e-01 -1.21718079e-01\n",
      " -2.40823597e-01 -2.57130444e-01  1.80717647e-01 -1.10704936e-01\n",
      " -3.77472609e-01 -6.48182705e-02  4.91176099e-02 -7.08771706e-01\n",
      " -5.42098284e-02  3.35703343e-02 -2.70593762e-02 -6.36424031e-03\n",
      "  3.78104113e-02 -3.01550388e-01  1.63400976e-03 -2.12791786e-01\n",
      " -8.15717503e-02  1.32924497e-01 -1.03069693e-01  9.55995824e-03\n",
      "  9.72904041e-02  1.50617614e-01  6.64313734e-02  2.53936231e-01\n",
      " -9.28349979e-03  3.32196862e-01  6.40407857e-03 -4.33653332e-02\n",
      " -2.06066370e-02 -3.41470778e-01  1.70782194e-01 -2.23371744e-01\n",
      " -2.16420442e-01  4.98992130e-02 -3.06722015e-01  1.52948499e-02\n",
      " -1.54429406e-01  1.96469620e-01  8.18073377e-02  9.60986987e-02\n",
      "  1.51439235e-01  2.24402584e-02 -1.41744822e-01  1.58249103e-02\n",
      "  1.68251812e-01 -2.31336892e-01  2.31038883e-01 -2.12296739e-01\n",
      "  1.21958815e-01 -1.38013497e-01 -5.63747250e-02  1.62544385e-01\n",
      "  7.58474022e-02 -2.84755796e-01  9.07146782e-02 -5.19451678e-01\n",
      " -2.66233981e-01 -8.97995159e-02  2.22391129e-01  2.58242581e-02\n",
      "  1.76781923e-01 -4.18538928e-01 -2.74961174e-01  1.82504252e-01\n",
      "  6.06563725e-02 -8.26412365e-02  5.38171232e-01 -1.32987112e-01\n",
      " -3.25041652e-01 -8.03475752e-02 -9.62575674e-02  3.28756690e-01\n",
      "  4.05634195e-01  3.68005008e-01 -9.52776149e-02  1.97580643e-02\n",
      " -2.16096953e-01  1.98972359e-01  3.87121648e-01  4.82924804e-02\n",
      " -1.53147563e-01  1.39948949e-01  2.07579046e-01 -5.75875580e-01\n",
      " -2.65021771e-01  4.30630110e-02 -5.37351891e-02 -1.95959672e-01\n",
      "  4.87419158e-01  1.41583711e-01 -2.82641381e-01 -1.49998277e-01\n",
      " -2.05494255e-01 -2.79819407e-02  9.99073610e-02  8.02483857e-02\n",
      "  3.13952267e-01  3.30126286e-01  4.86507386e-01 -9.93864909e-02\n",
      "  2.64417231e-02  2.84392118e-01 -2.15617456e-02 -8.39463919e-02\n",
      " -2.36454085e-01  4.26641911e-01  1.87118873e-01  2.85637349e-01\n",
      " -5.21075167e-02  3.51229668e-01  6.68759048e-02 -3.04930676e-02\n",
      " -9.80887339e-02  3.85549217e-02  3.40355299e-02 -9.65870544e-02\n",
      "  1.85352415e-01 -2.39234529e-02  1.25849038e-01  2.82378674e-01\n",
      "  5.75899720e-01  1.24500863e-01  2.43598491e-01 -2.27108419e-01\n",
      "  5.43640435e-01  2.61293739e-01  2.92787492e-01 -1.74183115e-05\n",
      " -3.44366170e-02  1.60505041e-01 -2.07538053e-01  1.75209433e-01\n",
      "  2.20307514e-01  1.58251733e-01 -7.90345818e-02  6.94893777e-01\n",
      " -3.90108302e-02  2.05786079e-01  1.91106230e-01 -3.11435103e-01\n",
      " -8.18820000e-02  3.43220085e-02  2.40341768e-01 -4.26997602e-01\n",
      "  2.19816584e-02 -8.45791958e-03  1.58925667e-01 -8.87967870e-02\n",
      " -1.57678202e-01 -3.11745584e-01 -2.22238945e-03  2.52809107e-01\n",
      " -1.34966478e-01 -4.64787744e-02 -1.54664785e-01 -2.64098346e-02\n",
      " -4.18687999e-01 -4.10371870e-02 -2.81169564e-01 -2.98344254e-01\n",
      " -4.75616634e-01 -1.29997835e-01 -1.19607739e-01 -1.27118096e-01\n",
      " -5.07223234e-02 -1.88030824e-01  1.92137331e-01  1.90485328e-01\n",
      "  3.48511070e-01 -3.20033967e-01 -3.04668825e-02 -7.36158341e-02\n",
      "  4.20761585e-01 -6.64593503e-02  5.64283788e-01 -5.11682294e-02\n",
      "  1.53775752e-01 -1.97918683e-01 -2.16327414e-01  1.40898526e-01\n",
      "  1.43258482e-01  1.43881649e-01  4.04489487e-02  4.76929009e-01\n",
      " -2.62042642e-01 -3.78244855e-02  1.89508408e-01  5.12833416e-01\n",
      " -4.04519856e-01  1.30408406e-01  9.71186906e-02 -7.32665285e-02\n",
      " -8.57314989e-02 -5.14755026e-02 -3.20301205e-01  2.76923068e-02\n",
      " -2.66343832e-01 -4.90581363e-01  1.29573077e-01 -3.05436691e-03\n",
      " -4.01712209e-01  6.21601418e-02  4.43564385e-01  2.62230903e-01\n",
      "  6.95376843e-02  6.23102114e-02 -8.37022066e-02  3.66799861e-01\n",
      "  6.15922660e-02 -6.99489787e-02 -3.03312719e-01 -4.52042609e-01\n",
      " -1.60558835e-01  1.46744311e-01 -4.99709785e-01  1.30148724e-01\n",
      "  1.48116693e-01  3.35276812e-01  1.20662086e-01  2.07362697e-02\n",
      "  6.12040162e-01 -1.58136398e-01 -1.09219141e-02 -2.69209772e-01\n",
      " -1.73942536e-01 -4.89864886e-01 -9.66490880e-02 -2.13593654e-02\n",
      "  1.91707797e-02  4.77046147e-02 -9.63789150e-02 -3.27235579e-01\n",
      " -1.76177800e-01 -2.03356653e-01 -3.59833501e-02  1.41706929e-01]\n",
      "Cosine Similarity: 0.8532537562541517\n"
     ]
    }
   ],
   "source": [
    "import numpy as np\n",
    "from numpy.linalg import norm\n",
    "\n",
    " \n",
    "# define two lists or array\n",
    "A = np.array(eg.doc_embs['emb'][5])\n",
    "B = np.array(clf.centroids_[y[0]])\n",
    " \n",
    "print(\"A:\", A)\n",
    "print(\"B:\", B)\n",
    " \n",
    "# compute cosine similarity\n",
    "def get_cosine(A,B)\n",
    "    cosine = np.dot(A,B)/(norm(A)*norm(B))\n",
    "    return cosine\n",
    "\n",
    "\n",
    "print(\"Cosine Similarity:\", cosine)"
   ]
  },
  {
   "cell_type": "code",
   "execution_count": 51,
   "id": "c3473827",
   "metadata": {},
   "outputs": [],
   "source": [
    "# f = open('searcher/static/searcher/bert_method_data/Reddit_umap_kmeans.json', 'w')\n",
    "# eg.doc_embs['emb'] = []\n",
    "# json.dump(eg.doc_embs, f)\n",
    "# f.close()"
   ]
  }
 ],
 "metadata": {
  "kernelspec": {
   "display_name": "learningmachines-venv",
   "language": "python",
   "name": "learningmachines-venv"
  },
  "language_info": {
   "codemirror_mode": {
    "name": "ipython",
    "version": 3
   },
   "file_extension": ".py",
   "mimetype": "text/x-python",
   "name": "python",
   "nbconvert_exporter": "python",
   "pygments_lexer": "ipython3",
   "version": "3.8.9"
  }
 },
 "nbformat": 4,
 "nbformat_minor": 5
}
